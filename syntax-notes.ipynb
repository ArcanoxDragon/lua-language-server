{
 "cells": [
  {
   "cell_type": "code",
   "execution_count": 12,
   "source": [
    "   local localAssigned\r\n",
    "--       ^ start     ^ finish"
   ],
   "outputs": [],
   "metadata": {}
  },
  {
   "cell_type": "markdown",
   "source": [
    "```json\r\n",
    "{\r\n",
    "    \"[001]\": \"localAssigned\",\r\n",
    "    \"type\": \"local\",\r\n",
    "    \"parent\": { \"type\": \"function\" },\r\n",
    "}\r\n",
    "```"
   ],
   "metadata": {}
  },
  {
   "cell_type": "code",
   "execution_count": 13,
   "source": [
    "   localAssigned = 4\r\n",
    "-- ^ start     ^ finish\r\n",
    "--                 ^ range"
   ],
   "outputs": [],
   "metadata": {}
  },
  {
   "cell_type": "markdown",
   "source": [
    "```json\r\n",
    "{\r\n",
    "    \"[001]\": \"localAssigned\",\r\n",
    "    \"type\": \"setlocal\",\r\n",
    "    \"parent\": { \"type\": \"function\" },\r\n",
    "    \"loc\": {\r\n",
    "        \"[001]\": \"localAssigned\",\r\n",
    "        \"type\": \"local\",\r\n",
    "        \"parent\": { \"type\": \"function\" }\r\n",
    "    },\r\n",
    "    \"node\": \":loc\",\r\n",
    "    \"value\": 4\r\n",
    "}\r\n",
    "```"
   ],
   "metadata": {}
  },
  {
   "cell_type": "code",
   "execution_count": 14,
   "source": [
    "   local localDeclaredAssigned = 2\r\n",
    "--       ^ start             ^ finish\r\n",
    "--                               ^ range"
   ],
   "outputs": [],
   "metadata": {}
  },
  {
   "cell_type": "markdown",
   "source": [
    "```json\r\n",
    "{\r\n",
    "    \"[001]\": \"localDeclaredAssigned\",\r\n",
    "    \"type\": \"local\",\r\n",
    "    \"parent\": { \"type\": \"function\" },\r\n",
    "    \"value\": 2\r\n",
    "}\r\n",
    "```"
   ],
   "metadata": {}
  },
  {
   "cell_type": "code",
   "execution_count": 15,
   "source": [
    "   local localDeclaredUnassigned\r\n",
    "--       ^ start               ^ finish"
   ],
   "outputs": [],
   "metadata": {}
  },
  {
   "cell_type": "markdown",
   "source": [
    "```json\r\n",
    "{\r\n",
    "    \"[001]\": \"localDeclaredUnassigned\",\r\n",
    "    \"type\": \"local\",\r\n",
    "    \"parent\": { \"type\": \"function\" },\r\n",
    "}\r\n",
    "```"
   ],
   "metadata": {}
  },
  {
   "cell_type": "code",
   "execution_count": null,
   "source": [
    "   local function localFunction()\r\n",
    "--       ^ vstart ^start      ^finish\r\n",
    "   end"
   ],
   "outputs": [],
   "metadata": {}
  },
  {
   "cell_type": "markdown",
   "source": [
    "```json\r\n",
    "{\r\n",
    "    \"[001]\": \"localFunction\",\r\n",
    "    \"type\": \"local\",\r\n",
    "    \"value\": { \"type\": \"function\" },\r\n",
    "    \"vstart\": 9999\r\n",
    "}\r\n",
    "```"
   ],
   "metadata": {}
  },
  {
   "cell_type": "code",
   "execution_count": null,
   "source": [
    "   local localFunction = function()\r\n",
    "--       ^start      ^finish\r\n",
    "   end"
   ],
   "outputs": [],
   "metadata": {}
  },
  {
   "cell_type": "markdown",
   "source": [
    "```json\r\n",
    "{\r\n",
    "    \"[001]\": \"localFunction\",\r\n",
    "    \"type\": \"local\",\r\n",
    "    \"value\": { \"type\": \"function\" }\r\n",
    "}\r\n",
    "```"
   ],
   "metadata": {}
  }
 ],
 "metadata": {
  "orig_nbformat": 4,
  "language_info": {
   "name": "lua",
   "mimetype": "text/x-lua",
   "file_extension": ".lua",
   "version": "5.4"
  },
  "kernelspec": {
   "name": "lua",
   "display_name": "Lua",
   "language": "lua"
  },
  "interpreter": {
   "hash": "ac59ebe37160ed0dfa835113d9b8498d9f09ceb179beaac4002f036b9467c963"
  }
 },
 "nbformat": 4,
 "nbformat_minor": 2
}